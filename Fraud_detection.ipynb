{
  "nbformat": 4,
  "nbformat_minor": 0,
  "metadata": {
    "colab": {
      "provenance": [],
      "include_colab_link": true
    },
    "kernelspec": {
      "name": "python3",
      "display_name": "Python 3"
    }
  },
  "cells": [
    {
      "cell_type": "markdown",
      "metadata": {
        "id": "view-in-github",
        "colab_type": "text"
      },
      "source": [
        "<a href=\"https://colab.research.google.com/github/Leila828/instadeep_labs/blob/master/Fraud_detection.ipynb\" target=\"_parent\"><img src=\"https://colab.research.google.com/assets/colab-badge.svg\" alt=\"Open In Colab\"/></a>"
      ]
    },
    {
      "cell_type": "code",
      "metadata": {
        "id": "-pU0g5dK3TZi",
        "colab": {
          "base_uri": "https://localhost:8080/",
          "height": 54
        },
        "outputId": "7297fa1d-7b20-4ebb-c519-f4fba7d5c31c"
      },
      "source": [
        "from google.colab import drive\n",
        "drive.mount('/content/drive')"
      ],
      "execution_count": null,
      "outputs": [
        {
          "output_type": "stream",
          "text": [
            "Drive already mounted at /content/drive; to attempt to forcibly remount, call drive.mount(\"/content/drive\", force_remount=True).\n"
          ],
          "name": "stdout"
        }
      ]
    },
    {
      "cell_type": "code",
      "metadata": {
        "id": "QxHLwBzM4R8i",
        "colab": {
          "base_uri": "https://localhost:8080/",
          "height": 34
        },
        "outputId": "90118870-d9ef-4146-b810-dd47f86944f0"
      },
      "source": [
        "cd drive/My Drive/dataz"
      ],
      "execution_count": null,
      "outputs": [
        {
          "output_type": "stream",
          "text": [
            "/content/drive/My Drive/dataz\n"
          ],
          "name": "stdout"
        }
      ]
    },
    {
      "cell_type": "code",
      "metadata": {
        "id": "wKkqJlzM4be3",
        "colab": {
          "base_uri": "https://localhost:8080/",
          "height": 50
        },
        "outputId": "9d3d010a-4a2a-465f-9db4-2dcbfcf16466"
      },
      "source": [
        "ls"
      ],
      "execution_count": null,
      "outputs": [
        {
          "output_type": "stream",
          "text": [
            "client_test.csv   invoice_test.csv   sample1.csv  sampleTest1.csv\n",
            "client_train.csv  invoice_train.csv  sample.csv   sampleTest.csv\n"
          ],
          "name": "stdout"
        }
      ]
    },
    {
      "cell_type": "code",
      "metadata": {
        "id": "95cxhoLV4iGe",
        "colab": {
          "base_uri": "https://localhost:8080/",
          "height": 70
        },
        "outputId": "7a4da0ec-3c72-43b3-fea0-7e18028d1ccf"
      },
      "source": [
        "import numpy as np\n",
        "import pandas as pd\n",
        "import datetime\n",
        "import gc\n",
        "import matplotlib.pyplot as plt\n",
        "import seaborn as sns\n",
        "import lightgbm as lgb\n",
        " \n",
        "from sklearn.model_selection import StratifiedKFold\n",
        "from sklearn.metrics import mean_squared_error\n",
        "import warnings\n",
        "warnings.filterwarnings('ignore')\n",
        "np.random.seed(4590)"
      ],
      "execution_count": null,
      "outputs": [
        {
          "output_type": "stream",
          "text": [
            "/usr/local/lib/python3.6/dist-packages/statsmodels/tools/_testing.py:19: FutureWarning: pandas.util.testing is deprecated. Use the functions in the public API at pandas.testing instead.\n",
            "  import pandas.util.testing as tm\n"
          ],
          "name": "stderr"
        }
      ]
    },
    {
      "cell_type": "code",
      "metadata": {
        "id": "DL1N3sy15Hyi",
        "colab": {
          "base_uri": "https://localhost:8080/",
          "height": 524
        },
        "outputId": "37cb8e99-630e-4a66-a36c-341131aca9e8"
      },
      "source": [
        "!pip install -U tf-hub-nightly\n",
        "!pip install tfds-nightly\n",
        "import tensorflow_hub as hub\n",
        "from sklearn.linear_model import LinearRegression\n",
        "from sklearn.model_selection import train_test_split\n",
        "from tensorflow.keras import layers"
      ],
      "execution_count": null,
      "outputs": [
        {
          "output_type": "stream",
          "text": [
            "Requirement already up-to-date: tf-hub-nightly in /usr/local/lib/python3.6/dist-packages (0.10.0.dev202008220006)\n",
            "Requirement already satisfied, skipping upgrade: six>=1.12.0 in /usr/local/lib/python3.6/dist-packages (from tf-hub-nightly) (1.15.0)\n",
            "Requirement already satisfied, skipping upgrade: numpy>=1.12.0 in /usr/local/lib/python3.6/dist-packages (from tf-hub-nightly) (1.18.5)\n",
            "Requirement already satisfied, skipping upgrade: protobuf>=3.8.0 in /usr/local/lib/python3.6/dist-packages (from tf-hub-nightly) (3.12.4)\n",
            "Requirement already satisfied, skipping upgrade: setuptools in /usr/local/lib/python3.6/dist-packages (from protobuf>=3.8.0->tf-hub-nightly) (49.2.0)\n",
            "Requirement already satisfied: tfds-nightly in /usr/local/lib/python3.6/dist-packages (3.2.1.dev202008220105)\n",
            "Requirement already satisfied: attrs>=18.1.0 in /usr/local/lib/python3.6/dist-packages (from tfds-nightly) (19.3.0)\n",
            "Requirement already satisfied: tqdm in /usr/local/lib/python3.6/dist-packages (from tfds-nightly) (4.41.1)\n",
            "Requirement already satisfied: absl-py in /usr/local/lib/python3.6/dist-packages (from tfds-nightly) (0.9.0)\n",
            "Requirement already satisfied: dill in /usr/local/lib/python3.6/dist-packages (from tfds-nightly) (0.3.2)\n",
            "Requirement already satisfied: protobuf>=3.6.1 in /usr/local/lib/python3.6/dist-packages (from tfds-nightly) (3.12.4)\n",
            "Requirement already satisfied: importlib-resources; python_version < \"3.9\" in /usr/local/lib/python3.6/dist-packages (from tfds-nightly) (3.0.0)\n",
            "Requirement already satisfied: six in /usr/local/lib/python3.6/dist-packages (from tfds-nightly) (1.15.0)\n",
            "Requirement already satisfied: future in /usr/local/lib/python3.6/dist-packages (from tfds-nightly) (0.16.0)\n",
            "Requirement already satisfied: numpy in /usr/local/lib/python3.6/dist-packages (from tfds-nightly) (1.18.5)\n",
            "Requirement already satisfied: requests>=2.19.0 in /usr/local/lib/python3.6/dist-packages (from tfds-nightly) (2.23.0)\n",
            "Requirement already satisfied: promise in /usr/local/lib/python3.6/dist-packages (from tfds-nightly) (2.3)\n",
            "Requirement already satisfied: termcolor in /usr/local/lib/python3.6/dist-packages (from tfds-nightly) (1.1.0)\n",
            "Requirement already satisfied: dm-tree in /usr/local/lib/python3.6/dist-packages (from tfds-nightly) (0.1.5)\n",
            "Requirement already satisfied: wrapt in /usr/local/lib/python3.6/dist-packages (from tfds-nightly) (1.12.1)\n",
            "Requirement already satisfied: dataclasses; python_version < \"3.7\" in /usr/local/lib/python3.6/dist-packages (from tfds-nightly) (0.7)\n",
            "Requirement already satisfied: tensorflow-metadata in /usr/local/lib/python3.6/dist-packages (from tfds-nightly) (0.22.2)\n",
            "Requirement already satisfied: setuptools in /usr/local/lib/python3.6/dist-packages (from protobuf>=3.6.1->tfds-nightly) (49.2.0)\n",
            "Requirement already satisfied: zipp>=0.4; python_version < \"3.8\" in /usr/local/lib/python3.6/dist-packages (from importlib-resources; python_version < \"3.9\"->tfds-nightly) (3.1.0)\n",
            "Requirement already satisfied: urllib3!=1.25.0,!=1.25.1,<1.26,>=1.21.1 in /usr/local/lib/python3.6/dist-packages (from requests>=2.19.0->tfds-nightly) (1.24.3)\n",
            "Requirement already satisfied: chardet<4,>=3.0.2 in /usr/local/lib/python3.6/dist-packages (from requests>=2.19.0->tfds-nightly) (3.0.4)\n",
            "Requirement already satisfied: idna<3,>=2.5 in /usr/local/lib/python3.6/dist-packages (from requests>=2.19.0->tfds-nightly) (2.10)\n",
            "Requirement already satisfied: certifi>=2017.4.17 in /usr/local/lib/python3.6/dist-packages (from requests>=2.19.0->tfds-nightly) (2020.6.20)\n",
            "Requirement already satisfied: googleapis-common-protos in /usr/local/lib/python3.6/dist-packages (from tensorflow-metadata->tfds-nightly) (1.52.0)\n"
          ],
          "name": "stdout"
        }
      ]
    },
    {
      "cell_type": "code",
      "metadata": {
        "id": "ABZO3P1t5T7h",
        "colab": {
          "base_uri": "https://localhost:8080/",
          "height": 195
        },
        "outputId": "aeddc458-adc2-4a6d-973d-3fc6389d0ca3"
      },
      "source": [
        "train_client=pd.read_csv('client_train.csv')\n",
        "test_client=pd.read_csv('client_test.csv')\n",
        "train_invoice=pd.read_csv('invoice_train.csv')\n",
        "test_invoice=pd.read_csv('invoice_test.csv')\n",
        "sub=pd.read_csv('sample1.csv')\n",
        "train_client.head()\n"
      ],
      "execution_count": null,
      "outputs": [
        {
          "output_type": "execute_result",
          "data": {
            "text/html": [
              "<div>\n",
              "<style scoped>\n",
              "    .dataframe tbody tr th:only-of-type {\n",
              "        vertical-align: middle;\n",
              "    }\n",
              "\n",
              "    .dataframe tbody tr th {\n",
              "        vertical-align: top;\n",
              "    }\n",
              "\n",
              "    .dataframe thead th {\n",
              "        text-align: right;\n",
              "    }\n",
              "</style>\n",
              "<table border=\"1\" class=\"dataframe\">\n",
              "  <thead>\n",
              "    <tr style=\"text-align: right;\">\n",
              "      <th></th>\n",
              "      <th>disrict</th>\n",
              "      <th>client_id</th>\n",
              "      <th>client_catg</th>\n",
              "      <th>region</th>\n",
              "      <th>creation_date</th>\n",
              "      <th>target</th>\n",
              "    </tr>\n",
              "  </thead>\n",
              "  <tbody>\n",
              "    <tr>\n",
              "      <th>0</th>\n",
              "      <td>60</td>\n",
              "      <td>train_Client_0</td>\n",
              "      <td>11</td>\n",
              "      <td>101</td>\n",
              "      <td>31/12/1994</td>\n",
              "      <td>0.0</td>\n",
              "    </tr>\n",
              "    <tr>\n",
              "      <th>1</th>\n",
              "      <td>69</td>\n",
              "      <td>train_Client_1</td>\n",
              "      <td>11</td>\n",
              "      <td>107</td>\n",
              "      <td>29/05/2002</td>\n",
              "      <td>0.0</td>\n",
              "    </tr>\n",
              "    <tr>\n",
              "      <th>2</th>\n",
              "      <td>62</td>\n",
              "      <td>train_Client_10</td>\n",
              "      <td>11</td>\n",
              "      <td>301</td>\n",
              "      <td>13/03/1986</td>\n",
              "      <td>0.0</td>\n",
              "    </tr>\n",
              "    <tr>\n",
              "      <th>3</th>\n",
              "      <td>69</td>\n",
              "      <td>train_Client_100</td>\n",
              "      <td>11</td>\n",
              "      <td>105</td>\n",
              "      <td>11/07/1996</td>\n",
              "      <td>0.0</td>\n",
              "    </tr>\n",
              "    <tr>\n",
              "      <th>4</th>\n",
              "      <td>62</td>\n",
              "      <td>train_Client_1000</td>\n",
              "      <td>11</td>\n",
              "      <td>303</td>\n",
              "      <td>14/10/2014</td>\n",
              "      <td>0.0</td>\n",
              "    </tr>\n",
              "  </tbody>\n",
              "</table>\n",
              "</div>"
            ],
            "text/plain": [
              "   disrict          client_id  client_catg  region creation_date  target\n",
              "0       60     train_Client_0           11     101    31/12/1994     0.0\n",
              "1       69     train_Client_1           11     107    29/05/2002     0.0\n",
              "2       62    train_Client_10           11     301    13/03/1986     0.0\n",
              "3       69   train_Client_100           11     105    11/07/1996     0.0\n",
              "4       62  train_Client_1000           11     303    14/10/2014     0.0"
            ]
          },
          "metadata": {
            "tags": []
          },
          "execution_count": 33
        }
      ]
    },
    {
      "cell_type": "code",
      "metadata": {
        "id": "C3wCMpli5d10",
        "colab": {
          "base_uri": "https://localhost:8080/",
          "height": 195
        },
        "outputId": "e6ebfe93-471d-49dd-d677-a5985215df3c"
      },
      "source": [
        "sub.head()"
      ],
      "execution_count": null,
      "outputs": [
        {
          "output_type": "execute_result",
          "data": {
            "text/html": [
              "<div>\n",
              "<style scoped>\n",
              "    .dataframe tbody tr th:only-of-type {\n",
              "        vertical-align: middle;\n",
              "    }\n",
              "\n",
              "    .dataframe tbody tr th {\n",
              "        vertical-align: top;\n",
              "    }\n",
              "\n",
              "    .dataframe thead th {\n",
              "        text-align: right;\n",
              "    }\n",
              "</style>\n",
              "<table border=\"1\" class=\"dataframe\">\n",
              "  <thead>\n",
              "    <tr style=\"text-align: right;\">\n",
              "      <th></th>\n",
              "      <th>client_id</th>\n",
              "      <th>target</th>\n",
              "    </tr>\n",
              "  </thead>\n",
              "  <tbody>\n",
              "    <tr>\n",
              "      <th>0</th>\n",
              "      <td>NaN</td>\n",
              "      <td>0.056900</td>\n",
              "    </tr>\n",
              "    <tr>\n",
              "      <th>1</th>\n",
              "      <td>NaN</td>\n",
              "      <td>0.102972</td>\n",
              "    </tr>\n",
              "    <tr>\n",
              "      <th>2</th>\n",
              "      <td>NaN</td>\n",
              "      <td>0.063485</td>\n",
              "    </tr>\n",
              "    <tr>\n",
              "      <th>3</th>\n",
              "      <td>NaN</td>\n",
              "      <td>0.037982</td>\n",
              "    </tr>\n",
              "    <tr>\n",
              "      <th>4</th>\n",
              "      <td>NaN</td>\n",
              "      <td>0.037217</td>\n",
              "    </tr>\n",
              "  </tbody>\n",
              "</table>\n",
              "</div>"
            ],
            "text/plain": [
              "   client_id    target\n",
              "0        NaN  0.056900\n",
              "1        NaN  0.102972\n",
              "2        NaN  0.063485\n",
              "3        NaN  0.037982\n",
              "4        NaN  0.037217"
            ]
          },
          "metadata": {
            "tags": []
          },
          "execution_count": 7
        }
      ]
    },
    {
      "cell_type": "code",
      "metadata": {
        "id": "jX78cwWj8qoO"
      },
      "source": [
        "#Label encoding the counter_type\n",
        "d={\"ELEC\":0,\"GAZ\":1}\n",
        "train_invoice['counter_type']=train_invoice['counter_type'].map(d)"
      ],
      "execution_count": null,
      "outputs": []
    },
    {
      "cell_type": "code",
      "metadata": {
        "id": "zTmU8DVHBciP"
      },
      "source": [
        "train_client['client_catg'] = train_client['client_catg'].astype('object')\n",
        "train_client['disrict'] = train_client['disrict'].astype('object')\n",
        "\n",
        "test_client['client_catg'] = test_client['client_catg'].astype('object')\n",
        "test_client['disrict'] = test_client['disrict'].astype('object')"
      ],
      "execution_count": null,
      "outputs": []
    },
    {
      "cell_type": "code",
      "metadata": {
        "id": "WnKvhj73BkiZ"
      },
      "source": [
        "#changing the invoice date to datetime\n",
        "for df in [train_invoice,test_invoice]:\n",
        "    df['invoice_date'] = pd.to_datetime(df['invoice_date'])"
      ],
      "execution_count": null,
      "outputs": []
    },
    {
      "cell_type": "code",
      "metadata": {
        "id": "Vo-2TKjSBl3o"
      },
      "source": [
        "aggs={}\n",
        "aggs['consommation_level_1'] = ['sum','max','min','mean']\n",
        "aggs['consommation_level_2'] = ['sum','max','min','mean']\n",
        "aggs['consommation_level_3'] =['sum','max','min','mean']\n",
        "aggs['consommation_level_4'] = ['sum','max','min','mean']"
      ],
      "execution_count": null,
      "outputs": []
    },
    {
      "cell_type": "code",
      "metadata": {
        "id": "NMYQT7_jBsZQ"
      },
      "source": [
        "agg_trans = train_invoice.groupby(['client_id']).agg(aggs)\n",
        "agg_trans.columns = ['_'.join(col).strip() for col in agg_trans.columns.values]\n",
        "agg_trans.reset_index(inplace=True)\n",
        "\n",
        "df = (train_invoice.groupby('client_id')\n",
        "          .size()\n",
        "          .reset_index(name='{}transactions_count'.format('1')))\n",
        "\n",
        "agg_trans = pd.merge(df, agg_trans, on='client_id', how='left')"
      ],
      "execution_count": null,
      "outputs": []
    },
    {
      "cell_type": "code",
      "metadata": {
        "id": "HyE972JKBv3e"
      },
      "source": [
        "train = pd.merge(train_client,agg_trans, on='client_id', how='left')"
      ],
      "execution_count": null,
      "outputs": []
    },
    {
      "cell_type": "code",
      "metadata": {
        "id": "0tfXEJnqB0iO"
      },
      "source": [
        "d={\"ELEC\":0,\"GAZ\":1}\n",
        "test_invoice['counter_type']=test_invoice['counter_type'].map(d)"
      ],
      "execution_count": null,
      "outputs": []
    },
    {
      "cell_type": "code",
      "metadata": {
        "id": "T7LAJA4sB3tU"
      },
      "source": [
        "agg_trans = test_invoice.groupby(['client_id']).agg(aggs)\n",
        "agg_trans.columns = ['_'.join(col).strip() for col in agg_trans.columns.values]\n",
        "agg_trans.reset_index(inplace=True)\n",
        "\n",
        "df = (test_invoice.groupby('client_id')\n",
        "          .size()\n",
        "          .reset_index(name='{}transactions_count'.format('1')))\n",
        "\n",
        "agg_trans = pd.merge(df, agg_trans, on='client_id', how='left')"
      ],
      "execution_count": null,
      "outputs": []
    },
    {
      "cell_type": "code",
      "metadata": {
        "id": "i3d_tji9B5Mf"
      },
      "source": [
        "test = pd.merge(test_client,agg_trans, on='client_id', how='left')"
      ],
      "execution_count": null,
      "outputs": []
    },
    {
      "cell_type": "code",
      "metadata": {
        "id": "lecFyGu4B8dV"
      },
      "source": [
        "for df in [train,test]:\n",
        "    df['creation_date'] = pd.to_datetime(df['creation_date'])"
      ],
      "execution_count": null,
      "outputs": []
    },
    {
      "cell_type": "code",
      "metadata": {
        "id": "VYaInc5JCCKM"
      },
      "source": [
        "col_to_drop = ['client_id', 'creation_date']\n",
        "for col in col_to_drop:\n",
        "    if col in train.columns:\n",
        "        train.drop([col], axis=1, inplace=True)\n",
        "    if col in test.columns:\n",
        "        test.drop([col], axis=1, inplace=True)"
      ],
      "execution_count": null,
      "outputs": []
    },
    {
      "cell_type": "code",
      "metadata": {
        "id": "gLCn3e9mCGPj"
      },
      "source": [
        "from sklearn import preprocessing\n",
        "for f in test.columns:\n",
        "    if train[f].dtype=='object' or test[f].dtype=='object': \n",
        "        lbl = preprocessing.LabelEncoder()\n",
        "        lbl.fit(list(train[f].values) + list(test[f].values))\n",
        "        train[f] = lbl.transform(list(train[f].values))\n",
        "        test[f] = lbl.transform(list(test[f].values))"
      ],
      "execution_count": null,
      "outputs": []
    },
    {
      "cell_type": "code",
      "metadata": {
        "id": "jMbYPvDVCLPJ",
        "colab": {
          "base_uri": "https://localhost:8080/",
          "height": 47
        },
        "outputId": "7a2f1332-b06f-43fa-fe4d-723ed86c87ea"
      },
      "source": [
        "all_data_na = train.isnull().sum() \n",
        "all_data_na = all_data_na.drop(all_data_na[all_data_na == 0].index).sort_values(ascending=False)[:30]\n",
        "missing_data = pd.DataFrame({'Missing ' :all_data_na})\n",
        "missing_data.head(20)"
      ],
      "execution_count": null,
      "outputs": [
        {
          "output_type": "execute_result",
          "data": {
            "text/html": [
              "<div>\n",
              "<style scoped>\n",
              "    .dataframe tbody tr th:only-of-type {\n",
              "        vertical-align: middle;\n",
              "    }\n",
              "\n",
              "    .dataframe tbody tr th {\n",
              "        vertical-align: top;\n",
              "    }\n",
              "\n",
              "    .dataframe thead th {\n",
              "        text-align: right;\n",
              "    }\n",
              "</style>\n",
              "<table border=\"1\" class=\"dataframe\">\n",
              "  <thead>\n",
              "    <tr style=\"text-align: right;\">\n",
              "      <th></th>\n",
              "      <th>Missing</th>\n",
              "    </tr>\n",
              "  </thead>\n",
              "  <tbody>\n",
              "  </tbody>\n",
              "</table>\n",
              "</div>"
            ],
            "text/plain": [
              "Empty DataFrame\n",
              "Columns: [Missing ]\n",
              "Index: []"
            ]
          },
          "metadata": {
            "tags": []
          },
          "execution_count": 20
        }
      ]
    },
    {
      "cell_type": "code",
      "metadata": {
        "id": "dzYW-eg7nbo3"
      },
      "source": [],
      "execution_count": null,
      "outputs": []
    },
    {
      "cell_type": "code",
      "metadata": {
        "id": "rMunQFKbCOji"
      },
      "source": [
        "target=train['target']\n",
        "train.drop('target',axis=1,inplace=True)"
      ],
      "execution_count": null,
      "outputs": []
    },
    {
      "cell_type": "code",
      "metadata": {
        "id": "9FoLiwFfCbe4"
      },
      "source": [
        "from sklearn.model_selection import train_test_split  \n",
        "\n",
        "X_tain, X_test, Y_train, Y_test = train_test_split(train, target, test_size=0.33, random_state=0)  "
      ],
      "execution_count": null,
      "outputs": []
    },
    {
      "cell_type": "code",
      "metadata": {
        "id": "DIIitYPhQCWy",
        "colab": {
          "base_uri": "https://localhost:8080/",
          "height": 34
        },
        "outputId": "6dd49be0-988c-4a31-8edf-025183bdfc8c"
      },
      "source": [
        "X_tain.shape"
      ],
      "execution_count": null,
      "outputs": [
        {
          "output_type": "execute_result",
          "data": {
            "text/plain": [
              "(90780, 20)"
            ]
          },
          "metadata": {
            "tags": []
          },
          "execution_count": 23
        }
      ]
    },
    {
      "cell_type": "code",
      "metadata": {
        "id": "IBy3HT_KQLRI",
        "colab": {
          "base_uri": "https://localhost:8080/",
          "height": 34
        },
        "outputId": "96201506-c5ab-4275-be17-e1c3fade143c"
      },
      "source": [
        "X_test.shape"
      ],
      "execution_count": null,
      "outputs": [
        {
          "output_type": "execute_result",
          "data": {
            "text/plain": [
              "(44713, 20)"
            ]
          },
          "metadata": {
            "tags": []
          },
          "execution_count": 24
        }
      ]
    },
    {
      "cell_type": "code",
      "metadata": {
        "id": "ZnXRRgDmnTSI",
        "colab": {
          "base_uri": "https://localhost:8080/",
          "height": 1000
        },
        "outputId": "ae5418cf-851b-40b1-a111-dc0a95505cb3"
      },
      "source": [
        "from sklearn.ensemble import RandomForestRegressor\n",
        "# instantiate the model set max_depth to 6 , random_state to 0  and n_jobs=-1 \n",
        "rf=RandomForestRegressor(max_depth=6, random_state=0,verbose=10,n_jobs=-1)\n",
        "# fit X_train and y_train\n",
        "rf=rf.fit(X_tain,Y_train)"
      ],
      "execution_count": null,
      "outputs": [
        {
          "output_type": "stream",
          "text": [
            "[Parallel(n_jobs=-1)]: Using backend ThreadingBackend with 2 concurrent workers.\n"
          ],
          "name": "stderr"
        },
        {
          "output_type": "stream",
          "text": [
            "building tree 1 of 100\n",
            "building tree 2 of 100\n"
          ],
          "name": "stdout"
        },
        {
          "output_type": "stream",
          "text": [
            "[Parallel(n_jobs=-1)]: Done   1 tasks      | elapsed:    0.5s\n"
          ],
          "name": "stderr"
        },
        {
          "output_type": "stream",
          "text": [
            "building tree 3 of 100\n",
            "building tree 4 of 100\n",
            "building tree 5 of 100\n",
            "building tree 6 of 100\n"
          ],
          "name": "stdout"
        },
        {
          "output_type": "stream",
          "text": [
            "[Parallel(n_jobs=-1)]: Done   4 tasks      | elapsed:    1.0s\n"
          ],
          "name": "stderr"
        },
        {
          "output_type": "stream",
          "text": [
            "building tree 7 of 100\n",
            "building tree 8 of 100\n",
            "building tree 9 of 100\n",
            "building tree 10 of 100\n"
          ],
          "name": "stdout"
        },
        {
          "output_type": "stream",
          "text": [
            "[Parallel(n_jobs=-1)]: Done   9 tasks      | elapsed:    2.5s\n"
          ],
          "name": "stderr"
        },
        {
          "output_type": "stream",
          "text": [
            "building tree 11 of 100\n",
            "building tree 12 of 100\n",
            "building tree 13 of 100\n",
            "building tree 14 of 100\n",
            "building tree 15 of 100\n",
            "building tree 16 of 100\n"
          ],
          "name": "stdout"
        },
        {
          "output_type": "stream",
          "text": [
            "[Parallel(n_jobs=-1)]: Done  14 tasks      | elapsed:    3.5s\n"
          ],
          "name": "stderr"
        },
        {
          "output_type": "stream",
          "text": [
            "building tree 17 of 100\n",
            "building tree 18 of 100\n",
            "building tree 19 of 100\n",
            "building tree 20 of 100\n",
            "building tree 21 of 100\n",
            "building tree 22 of 100\n"
          ],
          "name": "stdout"
        },
        {
          "output_type": "stream",
          "text": [
            "[Parallel(n_jobs=-1)]: Done  21 tasks      | elapsed:    5.4s\n"
          ],
          "name": "stderr"
        },
        {
          "output_type": "stream",
          "text": [
            "building tree 23 of 100\n",
            "building tree 24 of 100\n",
            "building tree 25 of 100\n",
            "building tree 26 of 100\n",
            "building tree 27 of 100\n",
            "building tree 28 of 100\n",
            "building tree 29 of 100\n",
            "building tree 30 of 100\n"
          ],
          "name": "stdout"
        },
        {
          "output_type": "stream",
          "text": [
            "[Parallel(n_jobs=-1)]: Done  28 tasks      | elapsed:    6.9s\n"
          ],
          "name": "stderr"
        },
        {
          "output_type": "stream",
          "text": [
            "building tree 31 of 100\n",
            "building tree 32 of 100\n",
            "building tree 33 of 100\n",
            "building tree 34 of 100\n",
            "building tree 35 of 100\n",
            "building tree 36 of 100\n",
            "building tree 37 of 100\n",
            "building tree 38 of 100\n"
          ],
          "name": "stdout"
        },
        {
          "output_type": "stream",
          "text": [
            "[Parallel(n_jobs=-1)]: Done  37 tasks      | elapsed:    9.3s\n"
          ],
          "name": "stderr"
        },
        {
          "output_type": "stream",
          "text": [
            "building tree 39 of 100\n",
            "building tree 40 of 100\n",
            "building tree 41 of 100\n",
            "building tree 42 of 100\n",
            "building tree 43 of 100\n",
            "building tree 44 of 100\n",
            "building tree 45 of 100\n",
            "building tree 46 of 100\n",
            "building tree 47 of 100\n",
            "building tree 48 of 100\n"
          ],
          "name": "stdout"
        },
        {
          "output_type": "stream",
          "text": [
            "[Parallel(n_jobs=-1)]: Done  46 tasks      | elapsed:   11.3s\n"
          ],
          "name": "stderr"
        },
        {
          "output_type": "stream",
          "text": [
            "building tree 49 of 100\n",
            "building tree 50 of 100\n",
            "building tree 51 of 100\n",
            "building tree 52 of 100\n",
            "building tree 53 of 100\n",
            "building tree 54 of 100\n",
            "building tree 55 of 100\n",
            "building tree 56 of 100\n",
            "building tree 57 of 100\n",
            "building tree 58 of 100\n"
          ],
          "name": "stdout"
        },
        {
          "output_type": "stream",
          "text": [
            "[Parallel(n_jobs=-1)]: Done  57 tasks      | elapsed:   14.1s\n"
          ],
          "name": "stderr"
        },
        {
          "output_type": "stream",
          "text": [
            "building tree 59 of 100\n",
            "building tree 60 of 100\n",
            "building tree 61 of 100\n",
            "building tree 62 of 100\n",
            "building tree 63 of 100\n",
            "building tree 64 of 100\n",
            "building tree 65 of 100\n",
            "building tree 66 of 100\n",
            "building tree 67 of 100\n",
            "building tree 68 of 100\n",
            "building tree 69 of 100\n",
            "building tree 70 of 100\n"
          ],
          "name": "stdout"
        },
        {
          "output_type": "stream",
          "text": [
            "[Parallel(n_jobs=-1)]: Done  68 tasks      | elapsed:   16.6s\n"
          ],
          "name": "stderr"
        },
        {
          "output_type": "stream",
          "text": [
            "building tree 71 of 100\n",
            "building tree 72 of 100\n",
            "building tree 73 of 100\n",
            "building tree 74 of 100\n",
            "building tree 75 of 100\n",
            "building tree 76 of 100\n",
            "building tree 77 of 100\n",
            "building tree 78 of 100\n",
            "building tree 79 of 100\n",
            "building tree 80 of 100\n",
            "building tree 81 of 100\n",
            "building tree 82 of 100\n",
            "building tree 83 of 100\n",
            "building tree 84 of 100\n"
          ],
          "name": "stdout"
        },
        {
          "output_type": "stream",
          "text": [
            "[Parallel(n_jobs=-1)]: Done  81 tasks      | elapsed:   19.8s\n"
          ],
          "name": "stderr"
        },
        {
          "output_type": "stream",
          "text": [
            "building tree 85 of 100\n",
            "building tree 86 of 100\n",
            "building tree 87 of 100\n",
            "building tree 88 of 100\n",
            "building tree 89 of 100\n",
            "building tree 90 of 100\n",
            "building tree 91 of 100\n",
            "building tree 92 of 100\n",
            "building tree 93 of 100\n",
            "building tree 94 of 100\n",
            "building tree 95 of 100\n",
            "building tree 96 of 100\n"
          ],
          "name": "stdout"
        },
        {
          "output_type": "stream",
          "text": [
            "[Parallel(n_jobs=-1)]: Done  94 tasks      | elapsed:   22.8s\n"
          ],
          "name": "stderr"
        },
        {
          "output_type": "stream",
          "text": [
            "building tree 97 of 100\n",
            "building tree 98 of 100\n",
            "building tree 99 of 100\n",
            "building tree 100 of 100\n"
          ],
          "name": "stdout"
        },
        {
          "output_type": "stream",
          "text": [
            "[Parallel(n_jobs=-1)]: Done 100 out of 100 | elapsed:   24.3s finished\n"
          ],
          "name": "stderr"
        }
      ]
    },
    {
      "cell_type": "code",
      "metadata": {
        "id": "8EFj4V4dnpTi",
        "colab": {
          "base_uri": "https://localhost:8080/",
          "height": 487
        },
        "outputId": "b35e4612-83a0-4bb3-8b69-81b210950f7e"
      },
      "source": [
        "# Let's predict the train and the test\n",
        "rf_train_pred = rf.predict(X_tain)\n",
        "rf_test_pred = rf.predict(X_test)"
      ],
      "execution_count": null,
      "outputs": [
        {
          "output_type": "stream",
          "text": [
            "[Parallel(n_jobs=2)]: Using backend ThreadingBackend with 2 concurrent workers.\n",
            "[Parallel(n_jobs=2)]: Done   1 tasks      | elapsed:    0.0s\n",
            "[Parallel(n_jobs=2)]: Done   4 tasks      | elapsed:    0.0s\n",
            "[Parallel(n_jobs=2)]: Done   9 tasks      | elapsed:    0.0s\n",
            "[Parallel(n_jobs=2)]: Done  14 tasks      | elapsed:    0.1s\n",
            "[Parallel(n_jobs=2)]: Done  21 tasks      | elapsed:    0.1s\n",
            "[Parallel(n_jobs=2)]: Done  28 tasks      | elapsed:    0.1s\n",
            "[Parallel(n_jobs=2)]: Done  37 tasks      | elapsed:    0.1s\n",
            "[Parallel(n_jobs=2)]: Done  46 tasks      | elapsed:    0.2s\n",
            "[Parallel(n_jobs=2)]: Done  57 tasks      | elapsed:    0.2s\n",
            "[Parallel(n_jobs=2)]: Done  68 tasks      | elapsed:    0.3s\n",
            "[Parallel(n_jobs=2)]: Done  81 tasks      | elapsed:    0.3s\n",
            "[Parallel(n_jobs=2)]: Done  94 tasks      | elapsed:    0.4s\n",
            "[Parallel(n_jobs=2)]: Done 100 out of 100 | elapsed:    0.4s finished\n",
            "[Parallel(n_jobs=2)]: Using backend ThreadingBackend with 2 concurrent workers.\n",
            "[Parallel(n_jobs=2)]: Done   1 tasks      | elapsed:    0.0s\n",
            "[Parallel(n_jobs=2)]: Done   4 tasks      | elapsed:    0.0s\n",
            "[Parallel(n_jobs=2)]: Done   9 tasks      | elapsed:    0.0s\n",
            "[Parallel(n_jobs=2)]: Done  14 tasks      | elapsed:    0.0s\n",
            "[Parallel(n_jobs=2)]: Done  21 tasks      | elapsed:    0.0s\n",
            "[Parallel(n_jobs=2)]: Done  28 tasks      | elapsed:    0.1s\n",
            "[Parallel(n_jobs=2)]: Done  37 tasks      | elapsed:    0.1s\n",
            "[Parallel(n_jobs=2)]: Done  46 tasks      | elapsed:    0.1s\n",
            "[Parallel(n_jobs=2)]: Done  57 tasks      | elapsed:    0.1s\n",
            "[Parallel(n_jobs=2)]: Done  68 tasks      | elapsed:    0.1s\n",
            "[Parallel(n_jobs=2)]: Done  81 tasks      | elapsed:    0.2s\n",
            "[Parallel(n_jobs=2)]: Done  94 tasks      | elapsed:    0.2s\n",
            "[Parallel(n_jobs=2)]: Done 100 out of 100 | elapsed:    0.2s finished\n"
          ],
          "name": "stderr"
        }
      ]
    },
    {
      "cell_type": "code",
      "metadata": {
        "id": "v31xc8tni-dg"
      },
      "source": [
        "# import xgboost as xgb \n",
        "import xgboost as xgb\n",
        "xgb.DMatrix?"
      ],
      "execution_count": null,
      "outputs": []
    },
    {
      "cell_type": "code",
      "metadata": {
        "id": "WxTOUBbojGfB",
        "colab": {
          "base_uri": "https://localhost:8080/",
          "height": 1000
        },
        "outputId": "5b13328c-0693-42a7-fde8-647e28021560"
      },
      "source": [
        "#@title solution\n",
        "\n",
        "# convert  train data and test data  to xgboost data structure using DMatrix please refer to the documentation \n",
        "# don't forgot to add  features names \n",
        "dtrain = xgb.DMatrix(data=X_tain,label=Y_train)\n",
        "dtest = xgb.DMatrix(data=X_test,label=Y_test,feature_names=X_test.columns)\n",
        "# specify parameters via map set the objective to regression loss function  please refer to the documentation  \n",
        "param = {'max_depth':5, 'eta':0.1,'seed':0,\n",
        "         'objective':'reg:squarederror' }\n",
        "# set nbr of iteration to 100 \n",
        "num_iter = 100\n",
        "# fit  the model and check the requirements params\n",
        "xgb_model=xgb.train(params=param, dtrain=dtrain,num_boost_round= num_iter,evals=[(dtrain,\"train\"),(dtest,\"test\")])"
      ],
      "execution_count": null,
      "outputs": [
        {
          "output_type": "stream",
          "text": [
            "[0]\ttrain-rmse:0.460497\ttest-rmse:0.460534\n",
            "[1]\ttrain-rmse:0.42579\ttest-rmse:0.42588\n",
            "[2]\ttrain-rmse:0.395414\ttest-rmse:0.395606\n",
            "[3]\ttrain-rmse:0.369\ttest-rmse:0.369231\n",
            "[4]\ttrain-rmse:0.346095\ttest-rmse:0.346425\n",
            "[5]\ttrain-rmse:0.326355\ttest-rmse:0.326779\n",
            "[6]\ttrain-rmse:0.309385\ttest-rmse:0.309917\n",
            "[7]\ttrain-rmse:0.294897\ttest-rmse:0.29555\n",
            "[8]\ttrain-rmse:0.28262\ttest-rmse:0.283384\n",
            "[9]\ttrain-rmse:0.272267\ttest-rmse:0.273141\n",
            "[10]\ttrain-rmse:0.263527\ttest-rmse:0.264511\n",
            "[11]\ttrain-rmse:0.256187\ttest-rmse:0.25728\n",
            "[12]\ttrain-rmse:0.250102\ttest-rmse:0.251317\n",
            "[13]\ttrain-rmse:0.245005\ttest-rmse:0.246352\n",
            "[14]\ttrain-rmse:0.240811\ttest-rmse:0.24223\n",
            "[15]\ttrain-rmse:0.23731\ttest-rmse:0.23886\n",
            "[16]\ttrain-rmse:0.234386\ttest-rmse:0.236073\n",
            "[17]\ttrain-rmse:0.232032\ttest-rmse:0.233795\n",
            "[18]\ttrain-rmse:0.230028\ttest-rmse:0.231955\n",
            "[19]\ttrain-rmse:0.228386\ttest-rmse:0.230418\n",
            "[20]\ttrain-rmse:0.227061\ttest-rmse:0.22918\n",
            "[21]\ttrain-rmse:0.225957\ttest-rmse:0.228171\n",
            "[22]\ttrain-rmse:0.225029\ttest-rmse:0.227311\n",
            "[23]\ttrain-rmse:0.224274\ttest-rmse:0.226648\n",
            "[24]\ttrain-rmse:0.22364\ttest-rmse:0.226109\n",
            "[25]\ttrain-rmse:0.223122\ttest-rmse:0.225678\n",
            "[26]\ttrain-rmse:0.222658\ttest-rmse:0.225285\n",
            "[27]\ttrain-rmse:0.222295\ttest-rmse:0.225002\n",
            "[28]\ttrain-rmse:0.221974\ttest-rmse:0.224766\n",
            "[29]\ttrain-rmse:0.221664\ttest-rmse:0.224544\n",
            "[30]\ttrain-rmse:0.221425\ttest-rmse:0.224388\n",
            "[31]\ttrain-rmse:0.22119\ttest-rmse:0.224249\n",
            "[32]\ttrain-rmse:0.221016\ttest-rmse:0.224155\n",
            "[33]\ttrain-rmse:0.220859\ttest-rmse:0.224069\n",
            "[34]\ttrain-rmse:0.220741\ttest-rmse:0.223999\n",
            "[35]\ttrain-rmse:0.22062\ttest-rmse:0.223926\n",
            "[36]\ttrain-rmse:0.220499\ttest-rmse:0.223883\n",
            "[37]\ttrain-rmse:0.220406\ttest-rmse:0.223861\n",
            "[38]\ttrain-rmse:0.220305\ttest-rmse:0.223838\n",
            "[39]\ttrain-rmse:0.220238\ttest-rmse:0.223823\n",
            "[40]\ttrain-rmse:0.220147\ttest-rmse:0.223788\n",
            "[41]\ttrain-rmse:0.220106\ttest-rmse:0.223764\n",
            "[42]\ttrain-rmse:0.22005\ttest-rmse:0.223763\n",
            "[43]\ttrain-rmse:0.219955\ttest-rmse:0.223744\n",
            "[44]\ttrain-rmse:0.2199\ttest-rmse:0.223742\n",
            "[45]\ttrain-rmse:0.219816\ttest-rmse:0.22374\n",
            "[46]\ttrain-rmse:0.219715\ttest-rmse:0.223734\n",
            "[47]\ttrain-rmse:0.219651\ttest-rmse:0.223699\n",
            "[48]\ttrain-rmse:0.219551\ttest-rmse:0.223677\n",
            "[49]\ttrain-rmse:0.219447\ttest-rmse:0.223655\n",
            "[50]\ttrain-rmse:0.219386\ttest-rmse:0.22364\n",
            "[51]\ttrain-rmse:0.219326\ttest-rmse:0.223658\n",
            "[52]\ttrain-rmse:0.219288\ttest-rmse:0.223667\n",
            "[53]\ttrain-rmse:0.219213\ttest-rmse:0.223666\n",
            "[54]\ttrain-rmse:0.219156\ttest-rmse:0.223677\n",
            "[55]\ttrain-rmse:0.219121\ttest-rmse:0.223666\n",
            "[56]\ttrain-rmse:0.21902\ttest-rmse:0.223667\n",
            "[57]\ttrain-rmse:0.218973\ttest-rmse:0.223674\n",
            "[58]\ttrain-rmse:0.218908\ttest-rmse:0.223686\n",
            "[59]\ttrain-rmse:0.218805\ttest-rmse:0.223669\n",
            "[60]\ttrain-rmse:0.218766\ttest-rmse:0.223669\n",
            "[61]\ttrain-rmse:0.218745\ttest-rmse:0.223672\n",
            "[62]\ttrain-rmse:0.218706\ttest-rmse:0.223663\n",
            "[63]\ttrain-rmse:0.218642\ttest-rmse:0.223665\n",
            "[64]\ttrain-rmse:0.218602\ttest-rmse:0.223669\n",
            "[65]\ttrain-rmse:0.218509\ttest-rmse:0.22365\n",
            "[66]\ttrain-rmse:0.218441\ttest-rmse:0.22365\n",
            "[67]\ttrain-rmse:0.218362\ttest-rmse:0.223671\n",
            "[68]\ttrain-rmse:0.218311\ttest-rmse:0.223676\n",
            "[69]\ttrain-rmse:0.218262\ttest-rmse:0.223692\n",
            "[70]\ttrain-rmse:0.218158\ttest-rmse:0.223656\n",
            "[71]\ttrain-rmse:0.21805\ttest-rmse:0.223633\n",
            "[72]\ttrain-rmse:0.218026\ttest-rmse:0.223637\n",
            "[73]\ttrain-rmse:0.21797\ttest-rmse:0.223631\n",
            "[74]\ttrain-rmse:0.217933\ttest-rmse:0.223645\n",
            "[75]\ttrain-rmse:0.217916\ttest-rmse:0.223645\n",
            "[76]\ttrain-rmse:0.217863\ttest-rmse:0.223641\n",
            "[77]\ttrain-rmse:0.217772\ttest-rmse:0.223646\n",
            "[78]\ttrain-rmse:0.217755\ttest-rmse:0.223649\n",
            "[79]\ttrain-rmse:0.217659\ttest-rmse:0.223628\n",
            "[80]\ttrain-rmse:0.217597\ttest-rmse:0.223636\n",
            "[81]\ttrain-rmse:0.217512\ttest-rmse:0.223624\n",
            "[82]\ttrain-rmse:0.217423\ttest-rmse:0.223622\n",
            "[83]\ttrain-rmse:0.217357\ttest-rmse:0.223618\n",
            "[84]\ttrain-rmse:0.217341\ttest-rmse:0.223616\n",
            "[85]\ttrain-rmse:0.217313\ttest-rmse:0.223611\n",
            "[86]\ttrain-rmse:0.217246\ttest-rmse:0.223593\n",
            "[87]\ttrain-rmse:0.217177\ttest-rmse:0.223603\n",
            "[88]\ttrain-rmse:0.217074\ttest-rmse:0.223555\n",
            "[89]\ttrain-rmse:0.21701\ttest-rmse:0.223557\n",
            "[90]\ttrain-rmse:0.216978\ttest-rmse:0.223557\n",
            "[91]\ttrain-rmse:0.216924\ttest-rmse:0.223559\n",
            "[92]\ttrain-rmse:0.216866\ttest-rmse:0.223573\n",
            "[93]\ttrain-rmse:0.21684\ttest-rmse:0.223579\n",
            "[94]\ttrain-rmse:0.216777\ttest-rmse:0.223579\n",
            "[95]\ttrain-rmse:0.216765\ttest-rmse:0.223585\n",
            "[96]\ttrain-rmse:0.216732\ttest-rmse:0.22358\n",
            "[97]\ttrain-rmse:0.216687\ttest-rmse:0.223586\n",
            "[98]\ttrain-rmse:0.21661\ttest-rmse:0.223582\n",
            "[99]\ttrain-rmse:0.216519\ttest-rmse:0.223597\n"
          ],
          "name": "stdout"
        }
      ]
    },
    {
      "cell_type": "code",
      "metadata": {
        "id": "Jv251A7nj1zu"
      },
      "source": [
        "#@title solution\n",
        "# Let's predict the train and the test\n",
        "xgb_train_pred = xgb_model.predict(dtrain)\n",
        "xgb_test_pred =  xgb_model.predict(dtest)"
      ],
      "execution_count": null,
      "outputs": []
    },
    {
      "cell_type": "code",
      "metadata": {
        "id": "-gQ-asLemlyL",
        "colab": {
          "base_uri": "https://localhost:8080/",
          "height": 168
        },
        "outputId": "a6d9aadf-f0b1-4bd9-dd43-6bf6cf731213"
      },
      "source": [
        "import xgboost as xgb\n",
        "from datetime import datetime\n",
        "from sklearn.model_selection import RandomizedSearchCV, GridSearchCV\n",
        "from sklearn.metrics import roc_auc_score\n",
        "from sklearn.model_selection import StratifiedKFold\n",
        "clf = xgb.XGBClassifier(\n",
        "    n_estimators=300,\n",
        "    max_depth=9,\n",
        "    learning_rate=0.05,\n",
        "    subsample=0.9,\n",
        "    colsample_bytree=0.9,\n",
        "    random_state=2019,\n",
        ")\n",
        "%time clf.fit(train, target)"
      ],
      "execution_count": null,
      "outputs": [
        {
          "output_type": "stream",
          "text": [
            "CPU times: user 1min 53s, sys: 91.2 ms, total: 1min 53s\n",
            "Wall time: 1min 53s\n"
          ],
          "name": "stdout"
        },
        {
          "output_type": "execute_result",
          "data": {
            "text/plain": [
              "XGBClassifier(base_score=0.5, booster='gbtree', colsample_bylevel=1,\n",
              "              colsample_bynode=1, colsample_bytree=0.9, gamma=0,\n",
              "              learning_rate=0.05, max_delta_step=0, max_depth=9,\n",
              "              min_child_weight=1, missing=None, n_estimators=300, n_jobs=1,\n",
              "              nthread=None, objective='binary:logistic', random_state=2019,\n",
              "              reg_alpha=0, reg_lambda=1, scale_pos_weight=1, seed=None,\n",
              "              silent=None, subsample=0.9, verbosity=1)"
            ]
          },
          "metadata": {
            "tags": []
          },
          "execution_count": 30
        }
      ]
    },
    {
      "cell_type": "code",
      "metadata": {
        "id": "X1xuRwg2mo35"
      },
      "source": [],
      "execution_count": null,
      "outputs": []
    },
    {
      "cell_type": "markdown",
      "metadata": {
        "id": "QFPJtKYojAbA"
      },
      "source": [
        "**Submission**"
      ]
    },
    {
      "cell_type": "code",
      "metadata": {
        "id": "RI57c6dCo13E"
      },
      "source": [
        "submission = pd.DataFrame({\"client_id\": sub[\"client_id\"],\n",
        "        \"target\": xgb_test_pred[1]\n",
        "    })\n",
        "submission.to_csv('samplelast.csv', index=False)"
      ],
      "execution_count": null,
      "outputs": []
    },
    {
      "cell_type": "code",
      "metadata": {
        "id": "inxNLSiepLHj",
        "colab": {
          "base_uri": "https://localhost:8080/",
          "height": 343
        },
        "outputId": "27a55899-eff0-4b62-afb0-379be4c46214"
      },
      "source": [
        "submission.head(10)"
      ],
      "execution_count": null,
      "outputs": [
        {
          "output_type": "execute_result",
          "data": {
            "text/html": [
              "<div>\n",
              "<style scoped>\n",
              "    .dataframe tbody tr th:only-of-type {\n",
              "        vertical-align: middle;\n",
              "    }\n",
              "\n",
              "    .dataframe tbody tr th {\n",
              "        vertical-align: top;\n",
              "    }\n",
              "\n",
              "    .dataframe thead th {\n",
              "        text-align: right;\n",
              "    }\n",
              "</style>\n",
              "<table border=\"1\" class=\"dataframe\">\n",
              "  <thead>\n",
              "    <tr style=\"text-align: right;\">\n",
              "      <th></th>\n",
              "      <th>client_id</th>\n",
              "      <th>target</th>\n",
              "    </tr>\n",
              "  </thead>\n",
              "  <tbody>\n",
              "    <tr>\n",
              "      <th>0</th>\n",
              "      <td>test_Client_0</td>\n",
              "      <td>0.004138</td>\n",
              "    </tr>\n",
              "    <tr>\n",
              "      <th>1</th>\n",
              "      <td>test_Client_1</td>\n",
              "      <td>0.004138</td>\n",
              "    </tr>\n",
              "    <tr>\n",
              "      <th>2</th>\n",
              "      <td>test_Client_10</td>\n",
              "      <td>0.004138</td>\n",
              "    </tr>\n",
              "    <tr>\n",
              "      <th>3</th>\n",
              "      <td>test_Client_100</td>\n",
              "      <td>0.004138</td>\n",
              "    </tr>\n",
              "    <tr>\n",
              "      <th>4</th>\n",
              "      <td>test_Client_1000</td>\n",
              "      <td>0.004138</td>\n",
              "    </tr>\n",
              "    <tr>\n",
              "      <th>5</th>\n",
              "      <td>test_Client_10000</td>\n",
              "      <td>0.004138</td>\n",
              "    </tr>\n",
              "    <tr>\n",
              "      <th>6</th>\n",
              "      <td>test_Client_10001</td>\n",
              "      <td>0.004138</td>\n",
              "    </tr>\n",
              "    <tr>\n",
              "      <th>7</th>\n",
              "      <td>test_Client_10002</td>\n",
              "      <td>0.004138</td>\n",
              "    </tr>\n",
              "    <tr>\n",
              "      <th>8</th>\n",
              "      <td>test_Client_10003</td>\n",
              "      <td>0.004138</td>\n",
              "    </tr>\n",
              "    <tr>\n",
              "      <th>9</th>\n",
              "      <td>test_Client_10004</td>\n",
              "      <td>0.004138</td>\n",
              "    </tr>\n",
              "  </tbody>\n",
              "</table>\n",
              "</div>"
            ],
            "text/plain": [
              "           client_id    target\n",
              "0      test_Client_0  0.004138\n",
              "1      test_Client_1  0.004138\n",
              "2     test_Client_10  0.004138\n",
              "3    test_Client_100  0.004138\n",
              "4   test_Client_1000  0.004138\n",
              "5  test_Client_10000  0.004138\n",
              "6  test_Client_10001  0.004138\n",
              "7  test_Client_10002  0.004138\n",
              "8  test_Client_10003  0.004138\n",
              "9  test_Client_10004  0.004138"
            ]
          },
          "metadata": {
            "tags": []
          },
          "execution_count": 36
        }
      ]
    }
  ]
}