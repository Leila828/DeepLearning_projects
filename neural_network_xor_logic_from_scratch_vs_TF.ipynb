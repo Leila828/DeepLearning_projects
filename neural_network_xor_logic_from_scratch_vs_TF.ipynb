{
  "nbformat": 4,
  "nbformat_minor": 0,
  "metadata": {
    "colab": {
      "provenance": [],
      "authorship_tag": "ABX9TyMEc7Tk2+uJPbubNLOg+k8u",
      "include_colab_link": true
    },
    "kernelspec": {
      "name": "python3",
      "display_name": "Python 3"
    },
    "language_info": {
      "name": "python"
    }
  },
  "cells": [
    {
      "cell_type": "markdown",
      "metadata": {
        "id": "view-in-github",
        "colab_type": "text"
      },
      "source": [
        "<a href=\"https://colab.research.google.com/github/Leila828/DeepLearning_projects/blob/master/neural_network_xor_logic_from_scratch_vs_TF.ipynb\" target=\"_parent\"><img src=\"https://colab.research.google.com/assets/colab-badge.svg\" alt=\"Open In Colab\"/></a>"
      ]
    },
    {
      "cell_type": "code",
      "source": [
        "import numpy as np\n",
        "import matplotlib.pyplot as plt"
      ],
      "metadata": {
        "id": "tGlB3ch_LP7b"
      },
      "execution_count": 4,
      "outputs": []
    },
    {
      "cell_type": "code",
      "source": [
        "a = np.array([0, 0, 1, 1])\n",
        "b = np.array([0, 1, 0, 1])\n",
        "\n",
        "# y_and = np.array([[0, 0, 0, 1]])\n",
        "y_xor = np.array([[0,1,1,0]])"
      ],
      "metadata": {
        "id": "JpGPMPxyLSDt"
      },
      "execution_count": 5,
      "outputs": []
    },
    {
      "cell_type": "code",
      "source": [
        "total_input = []\n",
        "\n",
        "total_input = [a, b]\n",
        "    \n",
        "total_input = np.array(total_input)"
      ],
      "metadata": {
        "id": "HO33hbx8LV1d"
      },
      "execution_count": 6,
      "outputs": []
    },
    {
      "cell_type": "code",
      "source": [
        "print(total_input)\n",
        "print(total_input[0])\n",
        "print(total_input.shape)\n",
        "total_input.shape[1]"
      ],
      "metadata": {
        "colab": {
          "base_uri": "https://localhost:8080/"
        },
        "id": "aBXfOYIfe3Yg",
        "outputId": "81fc2f28-9f7a-4db8-b7f5-e6947ef5c2ba"
      },
      "execution_count": 15,
      "outputs": [
        {
          "output_type": "stream",
          "name": "stdout",
          "text": [
            "[[0 0 1 1]\n",
            " [0 1 0 1]]\n",
            "[0 0 1 1]\n",
            "(2, 4)\n"
          ]
        },
        {
          "output_type": "execute_result",
          "data": {
            "text/plain": [
              "4"
            ]
          },
          "metadata": {},
          "execution_count": 15
        }
      ]
    },
    {
      "cell_type": "code",
      "source": [
        "# Define the sigmoid activation function:\n",
        "def sigmoid (x):\n",
        "    return 1/(1 + np.exp(-x))\n",
        "\n",
        "# Define the number of neurons\n",
        "input_neurons, hidden_neurons, output_neurons = 2, 2, 1\n",
        "\n",
        "# Total training examples\n",
        "samples = total_input.shape[1]\n",
        "\n",
        "# Learning rate\n",
        "lr = 0.1\n",
        "\n",
        "# Define random seed to replicate the outputs\n",
        "np.random.seed(42)"
      ],
      "metadata": {
        "id": "oUgvKtHKe2zx"
      },
      "execution_count": 16,
      "outputs": []
    },
    {
      "cell_type": "code",
      "source": [
        "# Initializing the weights for hidden and output layers\n",
        "\n",
        "w1 = np.random.rand(hidden_neurons, input_neurons)\n",
        "w2 = np.random.rand(output_neurons, hidden_neurons)"
      ],
      "metadata": {
        "id": "21uuiJkJgfgv"
      },
      "execution_count": 17,
      "outputs": []
    },
    {
      "cell_type": "code",
      "source": [
        "print(w1, w2)"
      ],
      "metadata": {
        "colab": {
          "base_uri": "https://localhost:8080/"
        },
        "id": "ME3OhxPUggiP",
        "outputId": "037433bd-3e4c-4c2c-db36-fc462d8c0681"
      },
      "execution_count": 18,
      "outputs": [
        {
          "output_type": "stream",
          "name": "stdout",
          "text": [
            "[[0.37454012 0.95071431]\n",
            " [0.73199394 0.59865848]] [[0.15601864 0.15599452]]\n"
          ]
        }
      ]
    },
    {
      "cell_type": "code",
      "source": [
        "# Forward propagation\n",
        "def forward_prop(w1, w2, x):\n",
        "    z1 = np.dot(w1, x)\n",
        "    a1 = sigmoid(z1)    \n",
        "    z2 = np.dot(w2, a1)\n",
        "    a2 = sigmoid(z2)\n",
        "    return z1, a1, z2, a2\n",
        "\n",
        "# Backward propagation\n",
        "def back_prop(m, w1, w2, z1, a1, z2, a2, y):\n",
        "    \n",
        "    dz2 = a2-y\n",
        "    dw2 = np.dot(dz2, a1.T)/m\n",
        "    dz1 = np.dot(w2.T, dz2) * a1*(1-a1)\n",
        "    dw1 = np.dot(dz1, total_input.T)/m\n",
        "    dw1 = np.reshape(dw1, w1.shape)\n",
        "    \n",
        "    dw2 = np.reshape(dw2,w2.shape)    \n",
        "    return dz2,dw2,dz1,dw1"
      ],
      "metadata": {
        "id": "OTW54W3mg30i"
      },
      "execution_count": 19,
      "outputs": []
    },
    {
      "cell_type": "code",
      "source": [
        "losses = []\n",
        "iterations = 10000\n",
        "\n",
        "for i in range(iterations):\n",
        "    z1, a1, z2, a2 = forward_prop(w1, w2, total_input)\n",
        "    loss = -(1/samples)*np.sum(y_xor*np.log(a2)+(1-y_xor)*np.log(1-a2))\n",
        "    losses.append(loss)\n",
        "    da2, dw2, dz1, dw1 = back_prop(samples, w1, w2, z1, a1, z2, a2, y_xor)\n",
        "    w2 = w2-lr*dw2\n",
        "    w1 = w1-lr*dw1\n",
        "\n",
        "# We plot losses to see how our network is doing\n",
        "plt.plot(losses)\n",
        "plt.xlabel(\"EPOCHS\")\n",
        "plt.ylabel(\"Loss value\")"
      ],
      "metadata": {
        "colab": {
          "base_uri": "https://localhost:8080/",
          "height": 296
        },
        "id": "gRccWPw-iXbt",
        "outputId": "cf0a4f7c-eac2-4785-dc35-cd51c2cd7185"
      },
      "execution_count": 20,
      "outputs": [
        {
          "output_type": "execute_result",
          "data": {
            "text/plain": [
              "Text(0, 0.5, 'Loss value')"
            ]
          },
          "metadata": {},
          "execution_count": 20
        },
        {
          "output_type": "display_data",
          "data": {
            "text/plain": [
              "<Figure size 432x288 with 1 Axes>"
            ],
            "image/png": "[encoded data removed]"
          },
          "metadata": {
            "needs_background": "light"
          }
        }
      ]
    },
    {
      "cell_type": "code",
      "source": [
        "# Creating the predict function\n",
        "\n",
        "def predict(w1,w2,input):\n",
        "    z1, a1, z2, a2 = forward_prop(w1,w2,test)\n",
        "    a2 = np.squeeze(a2)\n",
        "    \n",
        "    if a2>=0.5:\n",
        "        print(\"For input\", [i[0] for i in input], \"output is 1\")\n",
        "    else:\n",
        "        print(\"For input\", [i[0] for i in input], \"output is 0\")"
      ],
      "metadata": {
        "id": "tahUTSqyi47B"
      },
      "execution_count": 21,
      "outputs": []
    },
    {
      "cell_type": "code",
      "source": [
        "test = np.array([[0],[0]])\n",
        "predict(w1,w2,test)\n",
        "\n",
        "test = np.array([[0],[1]])\n",
        "predict(w1,w2,test)\n",
        "\n",
        "test = np.array([[1],[0]])\n",
        "predict(w1,w2,test)\n",
        "\n",
        "test = np.array([[1],[1]])\n",
        "predict(w1,w2,test)"
      ],
      "metadata": {
        "colab": {
          "base_uri": "https://localhost:8080/"
        },
        "id": "iKCp1ISUjEIj",
        "outputId": "1be35ee9-e979-46fc-b765-8239c8ec9b8a"
      },
      "execution_count": 22,
      "outputs": [
        {
          "output_type": "stream",
          "name": "stdout",
          "text": [
            "For input [0, 0] output is 0\n",
            "For input [0, 1] output is 1\n",
            "For input [1, 0] output is 1\n",
            "For input [1, 1] output is 0\n"
          ]
        }
      ]
    },
    {
      "cell_type": "markdown",
      "source": [
        "Using Keras"
      ],
      "metadata": {
        "id": "9Ig1QSotLPkO"
      }
    },
    {
      "cell_type": "code",
      "source": [
        "import numpy as np\n",
        "import tensorflow as tf\n",
        "import keras\n",
        "from keras import optimizers\n",
        "from keras import regularizers\n",
        "from keras.optimizers import Adam\n",
        "from keras.layers import Dense, Dropout, Activation, Flatten\n",
        "import matplotlib.pyplot as plt\n",
        "\n",
        "X = np.array([[0,0],[1,0],[0,1],[1,1],[0,1],[1,1],[0,0],[1,0]])\n",
        "print(X, X.shape)\n",
        "y = np.array([[0],[1],[1],[0],[1],[0],[0],[1]])\n",
        "print(y,y.shape)\n",
        "test_X = np.array([[1,1],[0,0],[0,1],[1,0]])\n",
        "test_y = np.array([[0],[0],[1],[1]])\n",
        "model = tf.keras.models.Sequential()\n",
        "model.add(Dense(20,input_dim=(2)))\n",
        "model.add(Activation('tanh'))\n",
        "model.add(Dense(1))\n",
        "model.add(Activation('sigmoid'))\n",
        "model.compile(loss='binary_crossentropy',metrics=['accuracy'],optimizer = optimizers.Adam(lr=0.01))\n",
        "history = model.fit(X,y,batch_size = 4, epochs=50, validation_data = (test_X,test_y), shuffle=True)\n",
        "\n",
        "#value= model.predict(np.array([[0,0]])).round()\n",
        "value= model.predict(np.array([[0,0]]))\n",
        "classes_x=(value > 0.5).astype(\"int32\")\n",
        "#np.argmax(model.predict(x_test),axis=1)\n",
        "print(\"Output of XOR is %s\" %(classes_x[0]))\n",
        "value= model.predict(np.array([[1,0]]))\n",
        "classes_x=(value > 0.5).astype(\"int32\")\n",
        "print(\"Output of XOR is %s\" %(classes_x[0]))\n",
        "value= model.predict(np.array([[0,1]]))\n",
        "print(\"Output of XOR is %s\" %(value[0]))\n",
        "value= model.predict(np.array([[1,1]]))\n",
        "print(\"Output of XOR is %s\" %(value[0]))\n",
        "      \n",
        "plt.plot(history.history['accuracy'])\n",
        "plt.plot(history.history['val_accuracy'])\n",
        "plt.title('model accuracy')\n",
        "plt.ylabel('accuracy')\n",
        "plt.xlabel('epoch')\n",
        "plt.legend(['train','test'], loc = 'upper left')\n",
        "plt.show()\n",
        "\n",
        "plt.plot(history.history['loss'])\n",
        "plt.plot(history.history['val_loss'])\n",
        "plt.title('model loss')\n",
        "plt.ylabel('loss')\n",
        "plt.xlabel('epoch')\n",
        "plt.legend(['train','test'],loc = 'upper left')\n",
        "plt.show()"
      ],
      "metadata": {
        "colab": {
          "base_uri": "https://localhost:8080/",
          "height": 1000
        },
        "id": "C_a21huXmDqP",
        "outputId": "c76b5257-5ebe-4fe3-f534-233218d7a158"
      },
      "execution_count": 30,
      "outputs": [
        {
          "output_type": "stream",
          "name": "stdout",
          "text": [
            "[[0 0]\n",
            " [1 0]\n",
            " [0 1]\n",
            " [1 1]\n",
            " [0 1]\n",
            " [1 1]\n",
            " [0 0]\n",
            " [1 0]] (8, 2)\n",
            "[[0]\n",
            " [1]\n",
            " [1]\n",
            " [0]\n",
            " [1]\n",
            " [0]\n",
            " [0]\n",
            " [1]] (8, 1)\n",
            "Epoch 1/50\n",
            "2/2 [==============================] - 1s 161ms/step - loss: 0.7144 - accuracy: 0.7500 - val_loss: 0.6955 - val_accuracy: 0.7500\n",
            "Epoch 2/50\n",
            "2/2 [==============================] - 0s 26ms/step - loss: 0.7010 - accuracy: 0.3750 - val_loss: 0.6935 - val_accuracy: 0.2500\n",
            "Epoch 3/50\n",
            "2/2 [==============================] - 0s 31ms/step - loss: 0.7091 - accuracy: 0.2500 - val_loss: 0.6938 - val_accuracy: 0.5000\n",
            "Epoch 4/50\n",
            "2/2 [==============================] - 0s 25ms/step - loss: 0.6987 - accuracy: 0.5000 - val_loss: 0.6924 - val_accuracy: 0.5000\n",
            "Epoch 5/50\n",
            "2/2 [==============================] - 0s 55ms/step - loss: 0.6970 - accuracy: 0.2500 - val_loss: 0.6915 - val_accuracy: 0.2500\n",
            "Epoch 6/50\n",
            "2/2 [==============================] - 0s 29ms/step - loss: 0.6924 - accuracy: 0.2500 - val_loss: 0.6908 - val_accuracy: 0.2500\n",
            "Epoch 7/50\n",
            "2/2 [==============================] - 0s 25ms/step - loss: 0.6906 - accuracy: 0.2500 - val_loss: 0.6900 - val_accuracy: 0.2500\n",
            "Epoch 8/50\n",
            "2/2 [==============================] - 0s 27ms/step - loss: 0.6915 - accuracy: 0.2500 - val_loss: 0.6893 - val_accuracy: 0.5000\n",
            "Epoch 9/50\n",
            "2/2 [==============================] - 0s 25ms/step - loss: 0.6927 - accuracy: 0.5000 - val_loss: 0.6886 - val_accuracy: 0.7500\n",
            "Epoch 10/50\n",
            "2/2 [==============================] - 0s 25ms/step - loss: 0.6915 - accuracy: 0.5000 - val_loss: 0.6878 - val_accuracy: 0.5000\n",
            "Epoch 11/50\n",
            "2/2 [==============================] - 0s 28ms/step - loss: 0.6893 - accuracy: 0.5000 - val_loss: 0.6871 - val_accuracy: 0.7500\n",
            "Epoch 12/50\n",
            "2/2 [==============================] - 0s 24ms/step - loss: 0.6885 - accuracy: 0.5000 - val_loss: 0.6863 - val_accuracy: 0.5000\n",
            "Epoch 13/50\n",
            "2/2 [==============================] - 0s 29ms/step - loss: 0.6861 - accuracy: 0.5000 - val_loss: 0.6855 - val_accuracy: 0.5000\n",
            "Epoch 14/50\n",
            "2/2 [==============================] - 0s 33ms/step - loss: 0.6862 - accuracy: 0.5000 - val_loss: 0.6847 - val_accuracy: 0.5000\n",
            "Epoch 15/50\n",
            "2/2 [==============================] - 0s 27ms/step - loss: 0.6845 - accuracy: 0.5000 - val_loss: 0.6838 - val_accuracy: 0.5000\n",
            "Epoch 16/50\n",
            "2/2 [==============================] - 0s 29ms/step - loss: 0.6864 - accuracy: 0.5000 - val_loss: 0.6831 - val_accuracy: 0.5000\n",
            "Epoch 17/50\n",
            "2/2 [==============================] - 0s 25ms/step - loss: 0.6828 - accuracy: 0.5000 - val_loss: 0.6822 - val_accuracy: 0.5000\n",
            "Epoch 18/50\n",
            "2/2 [==============================] - 0s 27ms/step - loss: 0.6835 - accuracy: 0.5000 - val_loss: 0.6812 - val_accuracy: 0.5000\n",
            "Epoch 19/50\n",
            "2/2 [==============================] - 0s 29ms/step - loss: 0.6844 - accuracy: 0.6250 - val_loss: 0.6804 - val_accuracy: 0.7500\n",
            "Epoch 20/50\n",
            "2/2 [==============================] - 0s 25ms/step - loss: 0.6836 - accuracy: 0.5000 - val_loss: 0.6794 - val_accuracy: 0.5000\n",
            "Epoch 21/50\n",
            "2/2 [==============================] - 0s 25ms/step - loss: 0.6823 - accuracy: 0.5000 - val_loss: 0.6786 - val_accuracy: 0.5000\n",
            "Epoch 22/50\n",
            "2/2 [==============================] - 0s 26ms/step - loss: 0.6784 - accuracy: 0.5000 - val_loss: 0.6777 - val_accuracy: 0.5000\n",
            "Epoch 23/50\n",
            "2/2 [==============================] - 0s 25ms/step - loss: 0.6787 - accuracy: 0.5000 - val_loss: 0.6767 - val_accuracy: 0.5000\n",
            "Epoch 24/50\n",
            "2/2 [==============================] - 0s 28ms/step - loss: 0.6765 - accuracy: 0.5000 - val_loss: 0.6757 - val_accuracy: 0.5000\n",
            "Epoch 25/50\n",
            "2/2 [==============================] - 0s 25ms/step - loss: 0.6755 - accuracy: 0.6250 - val_loss: 0.6747 - val_accuracy: 0.7500\n",
            "Epoch 26/50\n",
            "2/2 [==============================] - 0s 26ms/step - loss: 0.6755 - accuracy: 0.7500 - val_loss: 0.6736 - val_accuracy: 0.7500\n",
            "Epoch 27/50\n",
            "2/2 [==============================] - 0s 43ms/step - loss: 0.6734 - accuracy: 0.7500 - val_loss: 0.6725 - val_accuracy: 0.7500\n",
            "Epoch 28/50\n",
            "2/2 [==============================] - 0s 35ms/step - loss: 0.6722 - accuracy: 0.7500 - val_loss: 0.6713 - val_accuracy: 0.7500\n",
            "Epoch 29/50\n",
            "2/2 [==============================] - 0s 29ms/step - loss: 0.6726 - accuracy: 0.7500 - val_loss: 0.6702 - val_accuracy: 0.7500\n",
            "Epoch 30/50\n",
            "2/2 [==============================] - 0s 27ms/step - loss: 0.6712 - accuracy: 0.7500 - val_loss: 0.6689 - val_accuracy: 0.7500\n",
            "Epoch 31/50\n",
            "2/2 [==============================] - 0s 28ms/step - loss: 0.6730 - accuracy: 0.7500 - val_loss: 0.6675 - val_accuracy: 0.7500\n",
            "Epoch 32/50\n",
            "2/2 [==============================] - 0s 27ms/step - loss: 0.6672 - accuracy: 0.7500 - val_loss: 0.6662 - val_accuracy: 0.7500\n",
            "Epoch 33/50\n",
            "2/2 [==============================] - 0s 26ms/step - loss: 0.6696 - accuracy: 0.7500 - val_loss: 0.6648 - val_accuracy: 0.7500\n",
            "Epoch 34/50\n",
            "2/2 [==============================] - 0s 31ms/step - loss: 0.6657 - accuracy: 0.7500 - val_loss: 0.6634 - val_accuracy: 0.7500\n",
            "Epoch 35/50\n",
            "2/2 [==============================] - 0s 28ms/step - loss: 0.6700 - accuracy: 0.7500 - val_loss: 0.6622 - val_accuracy: 0.7500\n",
            "Epoch 36/50\n",
            "2/2 [==============================] - 0s 28ms/step - loss: 0.6618 - accuracy: 0.7500 - val_loss: 0.6605 - val_accuracy: 0.7500\n",
            "Epoch 37/50\n",
            "2/2 [==============================] - 0s 29ms/step - loss: 0.6610 - accuracy: 0.7500 - val_loss: 0.6590 - val_accuracy: 0.7500\n",
            "Epoch 38/50\n",
            "2/2 [==============================] - 0s 24ms/step - loss: 0.6615 - accuracy: 0.7500 - val_loss: 0.6574 - val_accuracy: 1.0000\n",
            "Epoch 39/50\n",
            "2/2 [==============================] - 0s 28ms/step - loss: 0.6570 - accuracy: 1.0000 - val_loss: 0.6557 - val_accuracy: 1.0000\n",
            "Epoch 40/50\n",
            "2/2 [==============================] - 0s 35ms/step - loss: 0.6569 - accuracy: 1.0000 - val_loss: 0.6540 - val_accuracy: 1.0000\n",
            "Epoch 41/50\n",
            "2/2 [==============================] - 0s 26ms/step - loss: 0.6557 - accuracy: 0.7500 - val_loss: 0.6524 - val_accuracy: 1.0000\n",
            "Epoch 42/50\n",
            "2/2 [==============================] - 0s 30ms/step - loss: 0.6527 - accuracy: 0.8750 - val_loss: 0.6506 - val_accuracy: 1.0000\n",
            "Epoch 43/50\n",
            "2/2 [==============================] - 0s 32ms/step - loss: 0.6501 - accuracy: 1.0000 - val_loss: 0.6485 - val_accuracy: 1.0000\n",
            "Epoch 44/50\n",
            "2/2 [==============================] - 0s 25ms/step - loss: 0.6495 - accuracy: 1.0000 - val_loss: 0.6464 - val_accuracy: 1.0000\n",
            "Epoch 45/50\n",
            "2/2 [==============================] - 0s 27ms/step - loss: 0.6553 - accuracy: 1.0000 - val_loss: 0.6442 - val_accuracy: 1.0000\n",
            "Epoch 46/50\n",
            "2/2 [==============================] - 0s 29ms/step - loss: 0.6454 - accuracy: 1.0000 - val_loss: 0.6420 - val_accuracy: 1.0000\n",
            "Epoch 47/50\n",
            "2/2 [==============================] - 0s 27ms/step - loss: 0.6449 - accuracy: 1.0000 - val_loss: 0.6398 - val_accuracy: 1.0000\n",
            "Epoch 48/50\n",
            "2/2 [==============================] - 0s 26ms/step - loss: 0.6407 - accuracy: 1.0000 - val_loss: 0.6375 - val_accuracy: 1.0000\n",
            "Epoch 49/50\n",
            "2/2 [==============================] - 0s 36ms/step - loss: 0.6369 - accuracy: 1.0000 - val_loss: 0.6350 - val_accuracy: 1.0000\n",
            "Epoch 50/50\n",
            "2/2 [==============================] - 0s 26ms/step - loss: 0.6351 - accuracy: 1.0000 - val_loss: 0.6325 - val_accuracy: 1.0000\n",
            "1/1 [==============================] - 0s 55ms/step\n",
            "Output of XOR is [0]\n",
            "1/1 [==============================] - 0s 19ms/step\n",
            "Output of XOR is [1]\n",
            "1/1 [==============================] - 0s 19ms/step\n",
            "Output of XOR is [0.5355985]\n",
            "1/1 [==============================] - 0s 21ms/step\n",
            "Output of XOR is [0.4857194]\n"
          ]
        },
        {
          "output_type": "display_data",
          "data": {
            "text/plain": [
              "<Figure size 432x288 with 1 Axes>"
            ],
            "image/png": "[encoded data removed]"
          },
          "metadata": {
            "needs_background": "light"
          }
        },
        {
          "output_type": "display_data",
          "data": {
            "text/plain": [
              "<Figure size 432x288 with 1 Axes>"
            ],
            "image/png": "[encoded data removed]"
          },
          "metadata": {
            "needs_background": "light"
          }
        }
      ]
    },
    {
      "cell_type": "markdown",
      "source": [
        "https://blog.paperspace.com/constructing-neural-networks-from-scratch/"
      ],
      "metadata": {
        "id": "reAlqdJ-4F6U"
      }
    },
    {
      "cell_type": "code",
      "source": [],
      "metadata": {
        "id": "ASNwi96I4FJ7"
      },
      "execution_count": null,
      "outputs": []
    }
  ]
}